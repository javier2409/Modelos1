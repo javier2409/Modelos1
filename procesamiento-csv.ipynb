{
 "cells": [
  {
   "cell_type": "code",
   "execution_count": 1,
   "metadata": {},
   "outputs": [],
   "source": [
    "import pandas as pd"
   ]
  },
  {
   "cell_type": "code",
   "execution_count": 21,
   "metadata": {},
   "outputs": [],
   "source": [
    "df = pd.read_csv('GranDT2015.csv').fillna(0)"
   ]
  },
  {
   "cell_type": "code",
   "execution_count": 28,
   "metadata": {},
   "outputs": [],
   "source": [
    "df.replace(to_replace='s/c',value=0).replace(to_replace=\"Newell's Old Boys\",value='Newells Old Boys').to_csv('NoNulos.csv',index=False)"
   ]
  },
  {
   "cell_type": "code",
   "execution_count": 30,
   "metadata": {},
   "outputs": [
    {
     "data": {
      "text/plain": [
       "Sánchez, Nicolás          2\n",
       "Fernández, Leandro        2\n",
       "Vega, Federico            1\n",
       "Ruiz, Pablo               1\n",
       "Sotelo, Guillermo         1\n",
       "Tagliafico, Nicolás       1\n",
       "Coria, Franco             1\n",
       "Aguilar, Pablo            1\n",
       "Jerez Silva, Luis         1\n",
       "Romero, Braian            1\n",
       "Guanini, Manuel           1\n",
       "Fernández, Guillermo      1\n",
       "Romero, Luciano           1\n",
       "González, Sergio          1\n",
       "Bonadío, Ignacio          1\n",
       "Fernández, Nicolás        1\n",
       "Musso, Juan               1\n",
       "Bonacorso, Ezequiel       1\n",
       "Parodi, Lucas             1\n",
       "Pocholo, Juan Pablo       1\n",
       "Zárate, Alexis            1\n",
       "Friedrich, Guillermo      1\n",
       "Vildozo, Angel            1\n",
       "Ilarregui, Francisco      1\n",
       "Rolón, Leonardo           1\n",
       "Royón, Nicolás            1\n",
       "Rodríguez, Nicolás        1\n",
       "Barisone, Diego           1\n",
       "Ojeda, Luis               1\n",
       "Cabral, Yonathan          1\n",
       "                         ..\n",
       "Mas, Emmanuel             1\n",
       "Moiraghi, Néstor          1\n",
       "Limia, Oscar Alejandro    1\n",
       "Defederico, Matías        1\n",
       "Jominy, Franco            1\n",
       "Robledo, Gabriel          1\n",
       "Vidal, Marcelo            1\n",
       "Canever, Franco           1\n",
       "Rius, Ciro                1\n",
       "Pasquini, Nicolás         1\n",
       "Rey, Rodrigo              1\n",
       "Sánchez Sotelo, Juan      1\n",
       "Batalla, Augusto          1\n",
       "Buzzini, Mariano          1\n",
       "Delgado, César            1\n",
       "García, Ariel Matías      1\n",
       "Godoy, Leonardo           1\n",
       "Noguera, Fabián           1\n",
       "Cardozo, Julián           1\n",
       "Jara, Leonardo            1\n",
       "Broun, Jorge              1\n",
       "Vitale, Julián            1\n",
       "Rosso, Federico           1\n",
       "Simeone, Giovanni         1\n",
       "Porcari, Matías           1\n",
       "Canelo, Alexis            1\n",
       "Angileri, Fabricio        1\n",
       "Buonanotte, Diego         1\n",
       "Protti, Ijiel             1\n",
       "Galeano, Leonel           1\n",
       "Name: Jugador, Length: 1012, dtype: int64"
      ]
     },
     "execution_count": 30,
     "metadata": {},
     "output_type": "execute_result"
    }
   ],
   "source": [
    "df.Jugador.value_counts()"
   ]
  },
  {
   "cell_type": "code",
   "execution_count": null,
   "metadata": {},
   "outputs": [],
   "source": []
  }
 ],
 "metadata": {
  "kernelspec": {
   "display_name": "Python 3",
   "language": "python",
   "name": "python3"
  },
  "language_info": {
   "codemirror_mode": {
    "name": "ipython",
    "version": 3
   },
   "file_extension": ".py",
   "mimetype": "text/x-python",
   "name": "python",
   "nbconvert_exporter": "python",
   "pygments_lexer": "ipython3",
   "version": "3.6.7"
  }
 },
 "nbformat": 4,
 "nbformat_minor": 2
}
